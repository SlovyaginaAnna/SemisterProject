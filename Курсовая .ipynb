{
  "cells": [
    {
      "cell_type": "markdown",
      "metadata": {
        "id": "s7CZbew7fX6j"
      },
      "source": [
        "Метод Рунге-Кутты\n"
      ]
    },
    {
      "cell_type": "code",
      "execution_count": null,
      "metadata": {
        "id": "vEV6XYHwdVW2"
      },
      "outputs": [],
      "source": [
        "import math\n",
        "import numpy as np\n",
        "import matplotlib.pyplot as plt\n",
        "import matplotlib.patches as mpatches"
      ]
    },
    {
      "cell_type": "code",
      "execution_count": null,
      "metadata": {
        "id": "aOJ9rVJiLFQS"
      },
      "outputs": [],
      "source": [
        "def f_for_Runge_Kutta(t, xy, params):\n",
        "    x,y = xy\n",
        "    dx = x - y + np.exp(t)\n",
        "    dy = x + 3*y\n",
        "    return np.array([dx, dy])"
      ]
    },
    {
      "cell_type": "code",
      "execution_count": null,
      "metadata": {
        "id": "lhfwDDeyU3eD"
      },
      "outputs": [],
      "source": [
        "def count_k(x, y, h, func, params):\n",
        "  k1 = func(x, y, params);\n",
        "  k2 = func(x + h/2, y + h/2*k1, params);\n",
        "  k3 = func(x + h/2, y + h/2*k2, params);\n",
        "  k4 = func(x + h, y + h*k3, params);\n",
        "  return y + h *(k1 + 2 * k2 + 2 * k3 + k4) / 6"
      ]
    },
    {
      "cell_type": "code",
      "execution_count": null,
      "metadata": {
        "id": "u_ZDFf-LTOsl"
      },
      "outputs": [],
      "source": [
        "def Runge_Kutta(x0, xn, y0, h, func, params):\n",
        "  y= [y0]\n",
        "  while True:\n",
        "    if h > 0:\n",
        "      h = min(h, xn - x0)\n",
        "    else:\n",
        "      h = max(h, xn - x0)\n",
        "    x0 = x0 + h\n",
        "    if x0 == xn:\n",
        "      break\n",
        "    y0 = count_k(x0, y0, h, func, params)\n",
        "    y.append(y0)\n",
        "  return  np.array(y)"
      ]
    },
    {
      "cell_type": "markdown",
      "metadata": {
        "id": "h1AlnRFifgUe"
      },
      "source": [
        "Метод стрельбы"
      ]
    },
    {
      "cell_type": "code",
      "execution_count": null,
      "metadata": {
        "id": "BhiQh2dp6pro"
      },
      "outputs": [],
      "source": [
        "def shooting_method(approx, func, left, right, step, boundary_condition, params, eps:1e-4):\n",
        "  newton_steps = 0\n",
        "  ys = []\n",
        "  F = np.zeros((len(approx), len(approx)))\n",
        "  while(True): \n",
        "        y = np.concatenate((Runge_Kutta((right - left) / 2, left, approx, -step, func, params)[::-1],\n",
        "                             Runge_Kutta((right - left) / 2, right, approx, step, func, params)[1:]))\n",
        "        residuals = np.array([y[:,0][0] - boundary_condition[0], y[:,1][-1] - boundary_condition[1]])\n",
        "        print(residuals)\n",
        "        print(newton_steps)\n",
        "        if (np.abs(residuals) < eps).all():\n",
        "            break\n",
        "        newton_steps += 1 \n",
        "        F = np.zeros((len(approx), len(approx)))\n",
        "        \n",
        "        for i in range(len(approx)):\n",
        "            y_approx = approx.copy()\n",
        "            y_approx[i] += eps\n",
        "            y_i = np.concatenate((Runge_Kutta((right - left) / 2, left, y_approx, -step, func, params)[::-1],\n",
        "                                  Runge_Kutta((right - left) / 2, right, y_approx, step, func, params)[1:]))\n",
        "            residuals_i = np.array([y_i[:,0][0] - boundary_condition[0], y_i[:,1][-1] - boundary_condition[1]])\n",
        "            F[:, i] = (residuals_i - residuals) / eps\n",
        "        if np.linalg.det(F) < eps:\n",
        "            print('определитель матрицы Фреше равен нулю')\n",
        "            print(F)\n",
        "            params[0] += eps\n",
        "            y_p = np.concatenate((Runge_Kutta((right - left) / 2, left, y_approx, -step, func, params)[::-1],\n",
        "                          Runge_Kutta((right - left) / 2, right, y_approx, step, func, params)[1:]))\n",
        "            params[0] -= eps\n",
        "            residuals_p = np.array([y_p[:,0][0] - boundary_condition[0], y_p[:,1][-1] - boundary_condition[1]])\n",
        "            column = (residuals_p - residuals) / eps\n",
        "            aug_F = np.zeros((len(approx), len(approx) + 1))\n",
        "            aug_F[:, 0:-1] = F\n",
        "            aug_F[:, -1] = column\n",
        "            return newton_steps, ys, approx, aug_F\n",
        "        approx = approx - np.dot(np.linalg.inv(F), residuals)\n",
        "    \n",
        "        ys = np.concatenate((Runge_Kutta((right - left) / 2, left, approx, -step, func, params)[::-1],\n",
        "                      Runge_Kutta((right - left) / 2, right, approx, step, func, params)[1:]))\n",
        "    \n",
        "  return newton_steps, ys, approx, F"
      ]
    },
    {
      "cell_type": "code",
      "execution_count": null,
      "metadata": {
        "colab": {
          "base_uri": "https://localhost:8080/"
        },
        "id": "1tiOwMIa-ZYU",
        "outputId": "b6eb5847-86e3-41d1-e125-af1b1b9c86c4"
      },
      "outputs": [
        {
          "output_type": "stream",
          "name": "stdout",
          "text": [
            "[-0.48126102 -2.23362901]\n",
            "0\n",
            "[-8.22439339e-13  8.52207194e-13]\n",
            "1\n"
          ]
        }
      ],
      "source": [
        "h = 0.01\n",
        "steps, y, approx, F = shooting_method([0,0], f_for_Runge_Kutta, 0, 1 + h, h, [0, np.e], [], 1e-4)"
      ]
    },
    {
      "cell_type": "code",
      "execution_count": null,
      "metadata": {
        "colab": {
          "base_uri": "https://localhost:8080/"
        },
        "id": "OhHf1ygH7sRi",
        "outputId": "cc624d20-215e-4148-cacd-1ea26369de5a"
      },
      "outputs": [
        {
          "output_type": "stream",
          "name": "stdout",
          "text": [
            "Number of steps: 1\n"
          ]
        }
      ],
      "source": [
        "print('Number of steps:', steps)"
      ]
    },
    {
      "cell_type": "code",
      "execution_count": null,
      "metadata": {
        "colab": {
          "base_uri": "https://localhost:8080/",
          "height": 392
        },
        "id": "9pAk4nFC8A92",
        "outputId": "34291149-b7f1-4ad3-e9b9-ee1271c04fd2"
      },
      "outputs": [
        {
          "output_type": "execute_result",
          "data": {
            "text/plain": [
              "[<matplotlib.lines.Line2D at 0x7f65a56b49d0>]"
            ]
          },
          "metadata": {},
          "execution_count": 11
        },
        {
          "output_type": "display_data",
          "data": {
            "text/plain": [
              "<Figure size 432x432 with 4 Axes>"
            ],
            "image/png": "[encoded data removed]"
          },
          "metadata": {
            "needs_background": "light"
          }
        }
      ],
      "source": [
        "x = np.arange(0,1 + h,h)\n",
        "x2 = [(2-t)*np.exp(2*t)-2*np.exp(t) for t in x]\n",
        "y2 = [(t-1)*np.exp(2*t)+np.exp(t) for t in x]\n",
        "fig, ax = plt.subplots(2,2,figsize=(6, 6))\n",
        "ax[0][0].plot(x, y[:,0], c='orange')\n",
        "ax[0][1].plot(x, x2, c='black')\n",
        "ax[1][0].plot(x, y[:,1], c='orange')\n",
        "ax[1][1].plot(x, y2, c='black')"
      ]
    },
    {
      "cell_type": "code",
      "execution_count": null,
      "metadata": {
        "colab": {
          "base_uri": "https://localhost:8080/"
        },
        "id": "LSsvovad9B0C",
        "outputId": "d43ef2e6-7b5a-475e-f714-794edc4304ab"
      },
      "outputs": [
        {
          "output_type": "execute_result",
          "data": {
            "text/plain": [
              "0.0034599181943637735"
            ]
          },
          "metadata": {},
          "execution_count": 12
        }
      ],
      "source": [
        "np.mean(np.abs(x2 - y[:,0]))"
      ]
    },
    {
      "cell_type": "code",
      "source": [
        "def func_with_lambda(t, y, params):\n",
        "    #y[0] = u\n",
        "    #y[1] = y = u'\n",
        "    #f[0] = y = u'\n",
        "    #f[1] = y' = u''\n",
        "    dx = y[1]\n",
        "    dy = -params[0]*np.exp(y[0])\n",
        "    return np.array([dx, dy])\n",
        "    +\n",
        "    "
      ],
      "metadata": {
        "id": "9tdhHOE6WoD4"
      },
      "execution_count": null,
      "outputs": []
    },
    {
      "cell_type": "code",
      "source": [
        "x = np.arange(0,1 + h,h)\n",
        "fig, ax = plt.subplots(2,2,figsize=(6, 6))\n",
        "ax[0][0].plot(x, y[:,0], c='orange')\n",
        "ax[1][0].plot(x, y[:,1], c='orange')"
      ],
      "metadata": {
        "colab": {
          "base_uri": "https://localhost:8080/",
          "height": 395
        },
        "id": "4BPcejW8bZQ0",
        "outputId": "a02817aa-cb4d-4ce9-ac22-24aa12338a9a"
      },
      "execution_count": null,
      "outputs": [
        {
          "output_type": "execute_result",
          "data": {
            "text/plain": [
              "[<matplotlib.lines.Line2D at 0x7f65a533c400>]"
            ]
          },
          "metadata": {},
          "execution_count": 16
        },
        {
          "output_type": "display_data",
          "data": {
            "text/plain": [
              "<Figure size 432x432 with 4 Axes>"
            ],
            "image/png": "[encoded data removed]"
          },
          "metadata": {
            "needs_background": "light"
          }
        }
      ]
    },
    {
      "cell_type": "code",
      "source": [
        "def func_with_lambda(t, y, params):\n",
        "    #y[0] = u\n",
        "    #y[1] = y = u'\n",
        "    #f[0] = y = u'\n",
        "    #f[1] = y' = u''\n",
        "    dx = y[1]\n",
        "    dy = 1/params[0]*y[0]*(y[1] + 1)\n",
        "    return np.array([dx, dy])\n",
        "\n",
        "h = 0.01\n",
        "steps, y, approx, F = shooting_method([0, 1], func_with_lambda, 0, 1 + h, h, [4, -3.5], [0.1], 1e-4)\n",
        "x = np.arange(0,1 + h,h)\n",
        "fig, (ax1, ax2) = plt.subplots(1,2,figsize=(6, 6))\n",
        "ax1.plot(x, y[:,0], c='orange')\n",
        "ax2.plot(x, y[:,1], c='orange')"
      ],
      "metadata": {
        "colab": {
          "base_uri": "https://localhost:8080/",
          "height": 548
        },
        "id": "CexeqTEJLmL7",
        "outputId": "4c42ea7d-9527-456f-bd36-d0ae97568a93"
      },
      "execution_count": null,
      "outputs": [
        {
          "output_type": "stream",
          "name": "stdout",
          "text": [
            "[-5.69381709 21.07377151]\n",
            "0\n",
            "[-3.80726155  7.53718249]\n",
            "1\n",
            "[-2.23443764  2.0619491 ]\n",
            "2\n",
            "определитель матрицы Фреше равен нулю\n",
            "[[ 0.87765676 -0.07501462]\n",
            " [ 0.34148687 -0.29895432]]\n"
          ]
        },
        {
          "output_type": "execute_result",
          "data": {
            "text/plain": [
              "[<matplotlib.lines.Line2D at 0x7f6597b07ac0>]"
            ]
          },
          "metadata": {},
          "execution_count": 40
        },
        {
          "output_type": "display_data",
          "data": {
            "text/plain": [
              "<Figure size 432x432 with 2 Axes>"
            ],
            "image/png": "[encoded data removed]"
          },
          "metadata": {
            "needs_background": "light"
          }
        }
      ]
    },
    {
      "cell_type": "code",
      "source": [
        "def augmented_frechet_matrix(approx, func, left, right, step, boundary_condition, params, cur_p, eps:1e-4):\n",
        "    y = np.concatenate((Runge_Kutta((right - left) / 2, left, approx, -step, func, params)[::-1],\n",
        "                        Runge_Kutta((right - left) / 2, right, approx, step, func, params)[1:]))\n",
        "    residuals = np.array([y[:,0][0] - boundary_condition[0], y[:,1][-1] - boundary_condition[1]])\n",
        "    F = np.zeros((len(approx), len(approx) + 1))\n",
        "    for i in range(len(approx)):\n",
        "      y_approx = approx.copy()       \n",
        "      y_approx[i] += eps\n",
        "      y_i = np.concatenate((Runge_Kutta((right - left) / 2, left, y_approx, -step, func, params)[::-1],\n",
        "                          Runge_Kutta((right - left) / 2, right, y_approx, step, func, params)[1:]))\n",
        "      residuals_i = np.array([y_i[:,0][0] - boundary_condition[0], y_i[:,1][-1] - boundary_condition[1]])\n",
        "      F[:, i] = (residuals_i - residuals) / eps\n",
        "    params[cur_p] += eps\n",
        "    y_p = np.concatenate((Runge_Kutta((right - left) / 2, left, y_approx, -step, func, params)[::-1],\n",
        "                          Runge_Kutta((right - left) / 2, right, y_approx, step, func, params)[1:]))\n",
        "    params[cur_p] -= eps\n",
        "    residuals_p = np.array([y_p[:,0][0] - boundary_condition[0], y_p[:,1][-1] - boundary_condition[1]])\n",
        "    F[:, -1] = (residuals_p - residuals) / eps\n",
        "    return F"
      ],
      "metadata": {
        "id": "90ystyut5A4I"
      },
      "execution_count": null,
      "outputs": []
    },
    {
      "cell_type": "code",
      "source": [
        "def analyse_point(aug_F, eps:1e-4):\n",
        "    dets = []\n",
        "    for col in range(len(aug_F[0])):\n",
        "        cols = [i for i in range(len(aug_F[0])) if i != col]\n",
        "        dets.append(np.linalg.det(aug_F[:, cols]))\n",
        "    if (np.abs(dets) < eps).all():\n",
        "        return True, np.round(dets, 4)\n",
        "    return False, np.round(dets, 4)"
      ],
      "metadata": {
        "id": "L6qTldOf8ClH"
      },
      "execution_count": null,
      "outputs": []
    },
    {
      "cell_type": "code",
      "source": [
        "def finding_solutions(aug_F, rank, residuals, params, approx, rad):\n",
        "  len_J = len(aug_F[0]) - 1\n",
        "  J = aug_F[:, 0:len_J]\n",
        "  C = aug_F[:, -1]\n",
        "  J_11 = J[0:rank, 0:rank]\n",
        "  J_21 = J[rank:len_J, 0:rank]\n",
        "  J_mult = np.dot(J_21, np.linalg.inv(J_11)) \n",
        "  C_1 = C[0:rank]\n",
        "  C_2 = C[rank:len_J]\n",
        "  N_1 = residuals[0:rank]\n",
        "  N_2 = residuals[rank:len_J]"
      ],
      "metadata": {
        "id": "LNWoRoP9QLQu"
      },
      "execution_count": null,
      "outputs": []
    },
    {
      "cell_type": "code",
      "source": [
        "F = augmented_frechet_matrix(approx, func_with_lambda, 0, 1 + h, h, [0, 0], [0.87846], 0, 1e-4)\n",
        "print(F)"
      ],
      "metadata": {
        "colab": {
          "base_uri": "https://localhost:8080/"
        },
        "id": "MtkqGrdDVJrn",
        "outputId": "47b126ef-7a83-4129-8159-f0518d3a0742"
      },
      "execution_count": null,
      "outputs": [
        {
          "output_type": "stream",
          "name": "stdout",
          "text": [
            "[[ 0.72992111 -0.46274992 -0.77017641]\n",
            " [-1.85682027  0.45045107 -1.66320274]]\n"
          ]
        }
      ]
    },
    {
      "cell_type": "code",
      "source": [
        "print(analyse_point(F, 1e-4))"
      ],
      "metadata": {
        "colab": {
          "base_uri": "https://localhost:8080/"
        },
        "id": "rMGM1LnyVm16",
        "outputId": "e3494686-a642-443d-da67-d4e21aef69e6"
      },
      "execution_count": null,
      "outputs": [
        {
          "output_type": "stream",
          "name": "stdout",
          "text": [
            "(False, array([  1.7168, -15.508 ,  -0.2368]))\n"
          ]
        }
      ]
    },
    {
      "cell_type": "code",
      "source": [],
      "metadata": {
        "id": "2lN5WWJObNMj"
      },
      "execution_count": null,
      "outputs": []
    }
  ],
  "metadata": {
    "colab": {
      "provenance": []
    },
    "kernelspec": {
      "display_name": "Python 3",
      "name": "python3"
    },
    "language_info": {
      "name": "python"
    }
  },
  "nbformat": 4,
  "nbformat_minor": 0
}